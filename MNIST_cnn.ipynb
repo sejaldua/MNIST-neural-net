{
 "cells": [
  {
   "cell_type": "code",
   "execution_count": 1,
   "metadata": {
    "ExecuteTime": {
     "end_time": "2019-12-19T20:44:50.233408Z",
     "start_time": "2019-12-19T20:44:41.877431Z"
    }
   },
   "outputs": [
    {
     "name": "stderr",
     "output_type": "stream",
     "text": [
      "/anaconda3/lib/python3.6/site-packages/h5py/__init__.py:36: FutureWarning: Conversion of the second argument of issubdtype from `float` to `np.floating` is deprecated. In future, it will be treated as `np.float64 == np.dtype(float).type`.\n",
      "  from ._conv import register_converters as _register_converters\n",
      "Using TensorFlow backend.\n"
     ]
    }
   ],
   "source": [
    "%matplotlib inline\n",
    "\n",
    "import numpy as np\n",
    "import random\n",
    "import matplotlib.pylab as plt\n",
    "from scipy.interpolate import interp1d\n",
    "import keras\n",
    "from keras.models import Sequential\n",
    "from keras.layers import Dense, Dropout, Flatten\n",
    "from keras.layers import Conv2D, MaxPooling2D\n",
    "from keras.datasets import mnist\n",
    "from keras.optimizers import SGD\n",
    "from datetime import datetime\n",
    "import time\n",
    "from sklearn.metrics import accuracy_score\n",
    "from sklearn.metrics import mean_squared_error\n",
    "%load_ext tensorboard"
   ]
  },
  {
   "cell_type": "code",
   "execution_count": 2,
   "metadata": {
    "ExecuteTime": {
     "end_time": "2019-12-19T20:45:05.433807Z",
     "start_time": "2019-12-19T20:45:05.039808Z"
    }
   },
   "outputs": [],
   "source": [
    "(x_train, y_train), (x_test, y_test) = mnist.load_data()\n",
    "\n",
    "# Reshape data so it has a channel dimension\n",
    "rows, cols = x_train.shape[-2:]\n",
    "x_train = x_train.reshape(x_train.shape[0], rows, cols, 1)\n",
    "x_test = x_test.reshape(x_test.shape[0], rows, cols, 1)\n",
    "\n",
    "# Convert pixel intensities to values between 0 and 1\n",
    "x_train = x_train.astype('float32')\n",
    "x_test = x_test.astype('float32')\n",
    "x_train /= 255\n",
    "x_test /= 255\n",
    "    \n",
    "# Convert target vectors to one-hot encoding\n",
    "num_classes = len(set(y_train))\n",
    "y_train = keras.utils.to_categorical(y_train, num_classes)\n",
    "y_test = keras.utils.to_categorical(y_test, num_classes)"
   ]
  },
  {
   "cell_type": "code",
   "execution_count": 4,
   "metadata": {
    "ExecuteTime": {
     "end_time": "2019-12-19T21:12:44.574051Z",
     "start_time": "2019-12-19T21:00:26.312780Z"
    }
   },
   "outputs": [
    {
     "name": "stdout",
     "output_type": "stream",
     "text": [
      "Train on 60000 samples, validate on 10000 samples\n",
      "Epoch 1/10\n",
      "60000/60000 [==============================] - 72s 1ms/step - loss: 4.1764 - accuracy: 0.7071 - val_loss: 0.0551 - val_accuracy: 0.9827\n",
      "Epoch 2/10\n",
      "60000/60000 [==============================] - 73s 1ms/step - loss: 4.0905 - accuracy: 0.7335 - val_loss: 0.0465 - val_accuracy: 0.9850\n",
      "Epoch 3/10\n",
      "60000/60000 [==============================] - 71s 1ms/step - loss: 4.0372 - accuracy: 0.7407 - val_loss: 0.0486 - val_accuracy: 0.9853\n",
      "Epoch 4/10\n",
      "60000/60000 [==============================] - 73s 1ms/step - loss: 4.0845 - accuracy: 0.7398 - val_loss: 0.0323 - val_accuracy: 0.9899\n",
      "Epoch 5/10\n",
      "60000/60000 [==============================] - 74s 1ms/step - loss: 4.0498 - accuracy: 0.7431 - val_loss: 0.0454 - val_accuracy: 0.9877\n",
      "Epoch 6/10\n",
      "60000/60000 [==============================] - 73s 1ms/step - loss: 4.0385 - accuracy: 0.7439 - val_loss: 0.0428 - val_accuracy: 0.9890\n",
      "Epoch 7/10\n",
      "60000/60000 [==============================] - 74s 1ms/step - loss: 4.0162 - accuracy: 0.7465 - val_loss: 0.0366 - val_accuracy: 0.9896\n",
      "Epoch 8/10\n",
      "60000/60000 [==============================] - 73s 1ms/step - loss: 4.0392 - accuracy: 0.7452 - val_loss: 0.0358 - val_accuracy: 0.9904\n",
      "Epoch 9/10\n",
      "60000/60000 [==============================] - 76s 1ms/step - loss: 4.0509 - accuracy: 0.7456 - val_loss: 0.0427 - val_accuracy: 0.9894\n",
      "Epoch 10/10\n",
      "60000/60000 [==============================] - 75s 1ms/step - loss: 4.0483 - accuracy: 0.7459 - val_loss: 0.0441 - val_accuracy: 0.9900\n",
      "10000/10000 [==============================] - 2s 209us/step\n",
      "LOSS: 0.044108596496627385\n",
      "ACCURACY: 0.9900000095367432\n"
     ]
    }
   ],
   "source": [
    "batch_size = 28\n",
    "num_classes = 10\n",
    "epochs = 10\n",
    "\n",
    "# constructing the convolutional neural network\n",
    "model = Sequential()\n",
    "# First ConvPoolLayer\n",
    "model.add(Conv2D(20, kernel_size=(3, 3), activation='relu', input_shape=(rows, cols, 1)))\n",
    "# Second ConvPoolLayer\n",
    "model.add(Conv2D(40, kernel_size=(3, 3), activation='relu'))\n",
    "model.add(MaxPooling2D(pool_size=(2, 2)))\n",
    "model.add(Flatten())\n",
    "# First FullyConnectedLayer\n",
    "model.add(Dense(128, activation='relu'))\n",
    "model.add(Dropout(0.25))\n",
    "# Second FullyConnectedLayer (with dropout)\n",
    "model.add(Dense(128, activation='relu'))\n",
    "model.add(Dropout(0.25))\n",
    "# First SoftmaxLayer / output layer (with dropout)\n",
    "model.add(Dense(num_classes, activation='softmax'))\n",
    "model.add(Dropout(0.25))\n",
    "\n",
    "model.compile(loss=keras.losses.categorical_crossentropy,\n",
    "              optimizer=keras.optimizers.Adam(),\n",
    "              metrics=['accuracy'])\n",
    "\n",
    "model.fit(x_train, y_train, \n",
    "          batch_size=batch_size, \n",
    "          epochs=epochs, \n",
    "          verbose=1, \n",
    "          validation_data=(x_test, y_test))\n",
    "\n",
    "score = model.evaluate(x_test, y_test, verbose=1)\n",
    "print('LOSS:', score[0])\n",
    "print('ACCURACY:', score[1])"
   ]
  },
  {
   "cell_type": "code",
   "execution_count": null,
   "metadata": {},
   "outputs": [],
   "source": []
  }
 ],
 "metadata": {
  "kernelspec": {
   "display_name": "Python 3",
   "language": "python",
   "name": "python3"
  },
  "language_info": {
   "codemirror_mode": {
    "name": "ipython",
    "version": 3
   },
   "file_extension": ".py",
   "mimetype": "text/x-python",
   "name": "python",
   "nbconvert_exporter": "python",
   "pygments_lexer": "ipython3",
   "version": "3.6.6"
  },
  "toc": {
   "base_numbering": 1,
   "nav_menu": {},
   "number_sections": true,
   "sideBar": true,
   "skip_h1_title": false,
   "title_cell": "Table of Contents",
   "title_sidebar": "Contents",
   "toc_cell": false,
   "toc_position": {},
   "toc_section_display": true,
   "toc_window_display": false
  },
  "varInspector": {
   "cols": {
    "lenName": 16,
    "lenType": 16,
    "lenVar": 40
   },
   "kernels_config": {
    "python": {
     "delete_cmd_postfix": "",
     "delete_cmd_prefix": "del ",
     "library": "var_list.py",
     "varRefreshCmd": "print(var_dic_list())"
    },
    "r": {
     "delete_cmd_postfix": ") ",
     "delete_cmd_prefix": "rm(",
     "library": "var_list.r",
     "varRefreshCmd": "cat(var_dic_list()) "
    }
   },
   "types_to_exclude": [
    "module",
    "function",
    "builtin_function_or_method",
    "instance",
    "_Feature"
   ],
   "window_display": false
  }
 },
 "nbformat": 4,
 "nbformat_minor": 2
}
